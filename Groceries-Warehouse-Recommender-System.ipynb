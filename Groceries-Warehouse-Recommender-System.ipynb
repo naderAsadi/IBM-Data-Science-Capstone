{
 "cells": [
  {
   "cell_type": "markdown",
   "metadata": {},
   "source": [
    "# Groceries Warehouse Recommender System"
   ]
  },
  {
   "cell_type": "markdown",
   "metadata": {},
   "source": [
    "<h2 style='color:#34495e;'>Problem Description</h2>\n",
    "\n",
    "<p>This project is for a groceries contractor who wants to build a warehouse.<br>\n",
    "It is important where to select as the location of warehouse. For example, if the warehouse location is selected near a famous restaurant, not only the cost of transportation diminishes but also the quality of service increases.</p>"
   ]
  },
  {
   "cell_type": "markdown",
   "metadata": {},
   "source": [
    "<h2 style='color:#34495e;'>Data Description</h2>\n",
    "<p>Geographical location of Toronto city will be needed. The first step is to find neighborhoods inside a specific borough by their corresponding postal codes.<p>\n",
    "\n",
    "<p>We use Fursquare Api in order to obtain information about different venues in different neighborhoods. We wiil access information about latitude and longitude of venue and it's populaity within a specific category. We can obtain all of that information using Foursquare typical Api.</p>\n",
    "\n",
    "[Postal Code] [Neighborhood(s)] [Neighborhood Latitude] [Neighborhood Longitude] [Venue] [Venue Summary] [Venue Category] [Distance (meter)]"
   ]
  },
  {
   "cell_type": "code",
   "execution_count": null,
   "metadata": {},
   "outputs": [],
   "source": []
  }
 ],
 "metadata": {
  "kernelspec": {
   "display_name": "Python 3",
   "language": "python",
   "name": "python3"
  },
  "language_info": {
   "codemirror_mode": {
    "name": "ipython",
    "version": 3
   },
   "file_extension": ".py",
   "mimetype": "text/x-python",
   "name": "python",
   "nbconvert_exporter": "python",
   "pygments_lexer": "ipython3",
   "version": "3.7.3"
  }
 },
 "nbformat": 4,
 "nbformat_minor": 2
}
